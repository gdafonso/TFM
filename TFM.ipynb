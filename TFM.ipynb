{
  "cells": [
    {
      "cell_type": "markdown",
      "metadata": {
        "id": "view-in-github",
        "colab_type": "text"
      },
      "source": [
        "<a href=\"https://colab.research.google.com/github/gdafonso/TFM/blob/main/TFM.ipynb\" target=\"_parent\"><img src=\"https://colab.research.google.com/assets/colab-badge.svg\" alt=\"Open In Colab\"/></a>"
      ]
    },
    {
      "cell_type": "markdown",
      "metadata": {
        "id": "WU4K_Se16nM2"
      },
      "source": [
        "Instala la librería de Imbalanced Learn desde linea de comando"
      ]
    },
    {
      "cell_type": "code",
      "execution_count": null,
      "metadata": {
        "id": "fJpDGfND6H2V"
      },
      "outputs": [],
      "source": [
        "#pip install -U imbalanced-learn"
      ]
    },
    {
      "cell_type": "markdown",
      "metadata": {
        "id": "8rG2hBhi6jYD"
      },
      "source": [
        "Análisis exploratorio, para comprobar el desequilibrio entre las clases"
      ]
    },
    {
      "cell_type": "markdown",
      "source": [
        "Importar bibliotecas necesarias"
      ],
      "metadata": {
        "id": "xy6J-oXa9KRh"
      }
    },
    {
      "cell_type": "code",
      "execution_count": null,
      "metadata": {
        "id": "fTEjeFJz6NMo"
      },
      "outputs": [],
      "source": [
        "import pandas as pd  # Pandas se utiliza para manipular y analizar datos en formato tabular.\n",
        "import numpy as np   # NumPy proporciona soporte para matrices y operaciones matemáticas eficientes.\n",
        "import matplotlib.pyplot as plt  # Matplotlib se utiliza para trazar gráficos y visualizar datos.\n",
        "import seaborn as sns  # Seaborn se utiliza para crear visualizaciones más atractivas y eficientes.\n",
        "\n",
        "from sklearn.metrics import confusion_matrix  # De scikit-learn, se utiliza para calcular la matriz de confusión.\n",
        "from sklearn.metrics import classification_report  # También de scikit-learn, se utiliza para generar un informe de clasificación.\n",
        "from sklearn.model_selection import train_test_split  # Para dividir los datos en conjuntos de entrenamiento y prueba.\n",
        "from sklearn.linear_model import LogisticRegression  # Para ajustar un modelo de regresión logística.\n",
        "from sklearn.decomposition import PCA  # Para realizar análisis de componentes principales (PCA).\n",
        "from sklearn.tree import DecisionTreeClassifier  # Para ajustar un modelo de árbol de decisión.\n",
        "\n",
        "from pylab import rcParams  # Se utiliza para configurar parámetros de gráficos específicos.\n",
        "\n",
        "from imblearn.under_sampling import NearMiss  # De la biblioteca imbalanced-learn, se utiliza para submuestrear datos desequilibrados.\n",
        "from imblearn.over_sampling import RandomOverSampler  # Para sobremuestrear datos desequilibrados.\n",
        "from imblearn.combine import SMOTETomek  # Para aplicar la técnica SMOTE-Tomek a datos desequilibrados.\n",
        "from imblearn.ensemble import BalancedBaggingClassifier  # Para aplicar técnicas de balanceo mediante ensamblaje.\n",
        "\n",
        "from collections import Counter  # Utilizado para contar elementos en una secuencia (como una lista) y analizar el desequilibrio de clases."
      ]
    },
    {
      "cell_type": "markdown",
      "source": [
        "Cada biblioteca importada cumple un propósito específico en el análisis y modelado de datos, y se utilizan en el código para diversas tareas como manipulación de datos, visualización, clasificación, balanceo de clases y métricas de evaluación de modelos."
      ],
      "metadata": {
        "id": "BqIT2-Y79w2x"
      }
    },
    {
      "cell_type": "markdown",
      "metadata": {
        "id": "aNHjL2F-6haJ"
      },
      "source": [
        "Luego de importar las librerías que usaremos, cargamos con pandas el dataframe"
      ]
    },
    {
      "cell_type": "code",
      "execution_count": null,
      "metadata": {
        "colab": {
          "base_uri": "https://localhost:8080/"
        },
        "id": "ZjasJclmQjHM",
        "outputId": "4ebb1aac-63ee-4a29-ea38-1f94b88cea11"
      },
      "outputs": [
        {
          "output_type": "stream",
          "name": "stdout",
          "text": [
            "Mounted at /content/drive\n"
          ]
        },
        {
          "output_type": "stream",
          "name": "stderr",
          "text": [
            "<ipython-input-3-bd4bfde444ad>:13: DtypeWarning: Columns (8,9) have mixed types. Specify dtype option on import or set low_memory=False.\n",
            "  df_consumos = pd.concat([pd.read_csv(file, sep=';') for file in file_paths])\n",
            "<ipython-input-3-bd4bfde444ad>:24: FutureWarning: The default value of regex will change from True to False in a future version. In addition, single character regular expressions will *not* be treated as literal strings when regex=True.\n",
            "  df_consumos['media_de_consumo'] = df_consumos['v_consumo'].str.replace(\".\", \"\").astype(int) / df_consumos['dias_de_lectura'].dt.days\n"
          ]
        }
      ],
      "source": [
        "# Importa la biblioteca de Google Colab para montar Google Drive\n",
        "from google.colab import drive\n",
        "# Monta el sistema de archivos de Google Drive en Colab\n",
        "drive.mount('/content/drive')\n",
        "\n",
        "# Lista de rutas de archivos CSV\n",
        "file_paths = [\n",
        "    \"/content/drive/MyDrive/TFM/Consumos_1.csv\",\n",
        "    \"/content/drive/MyDrive/TFM/Consumos_2.csv\",\n",
        "]\n",
        "\n",
        "# Concatena los datos de los archivos CSV en un solo DataFrame\n",
        "df_consumos = pd.concat([pd.read_csv(file, sep=';') for file in file_paths])\n",
        "\n",
        "# Convierte las columnas 'fecha_lectura_anterior' y 'fecha_lectura' en objetos de fecha y hora,\n",
        "# configurando 'dayfirst' para tratar el día como el primer componente de la fecha\n",
        "df_consumos['fecha_lectura_anterior'] = pd.to_datetime(df_consumos['fecha_lectura_anterior'], errors='coerce', dayfirst=True)\n",
        "df_consumos['fecha_lectura'] = pd.to_datetime(df_consumos['fecha_lectura'], errors='coerce', dayfirst=True)\n",
        "\n",
        "# Calcula la diferencia en días entre 'fecha_lectura' y 'fecha_lectura_anterior' y la almacena en 'dias_de_lectura'\n",
        "df_consumos['dias_de_lectura'] = df_consumos['fecha_lectura'] - df_consumos['fecha_lectura_anterior']\n",
        "\n",
        "# Calcula la columna 'media_de_consumo' dividiendo 'v_consumo' por 'dias_de_lectura' en días\n",
        "df_consumos['media_de_consumo'] = df_consumos['v_consumo'].str.replace(\".\", \"\").astype(int) / df_consumos['dias_de_lectura'].dt.days\n",
        "\n",
        "# Define una lista de nombres de columnas a eliminar del DataFrame\n",
        "columnas_a_eliminar = [\"dia_lectura\", \"anyo_lectura\", \"mes_lectura\", \"fecha_lectura_anterior\", \"v_consumo\", \"v_lectura\", \"v_lectura_anterior\", \"dias_de_lectura\"]\n",
        "\n",
        "# Elimina las columnas especificadas del DataFrame\n",
        "df_consumos = df_consumos.drop(columnas_a_eliminar, axis=1)\n",
        "\n",
        "# Convierte la columna 'fecha_lectura' al formato 'mm/YYYY'\n",
        "df_consumos['fecha_lectura'] = df_consumos['fecha_lectura'].dt.strftime('%m/%Y')\n",
        "\n",
        "# Define una lista de integradores no deseados\n",
        "integradores_no_deseados = [4, 6, 7, 8, 9, 10, 11, 12, 13, 14, 15, 16, 17, 18]\n",
        "\n",
        "# Filtra las filas donde la columna 'integrador' no está en la lista de integradores no deseados\n",
        "df_consumos = df_consumos[~df_consumos['integrador'].isin(integradores_no_deseados)]\n",
        "\n",
        "# Agrupa el DataFrame por 'cups', 'fecha_lectura', y 'integrador' y calcula la media de 'media_de_consumo'\n",
        "df_consumos = df_consumos.groupby(['cups', 'fecha_lectura', 'integrador']).agg(media_de_consumo=('media_de_consumo', 'mean'))\n",
        "\n",
        "# Filtra las filas donde 'media_de_consumo' no es igual a 0\n",
        "df_consumos = df_consumos[df_consumos.media_de_consumo != 0]\n",
        "\n",
        "# Realiza un desapilamiento de las columnas de índice múltiple en el DataFrame\n",
        "df_consumos = df_consumos.unstack()\n",
        "\n",
        "# Renombra las columnas con un formato específico\n",
        "df_consumos.columns = [f\"{a}{' integrador '}{b}\" for a, b in df_consumos.columns]\n",
        "\n",
        "# Rellena los valores faltantes con 0\n",
        "df_consumos = df_consumos.fillna(0)\n",
        "\n",
        "# Calcula la columna 'Media de consumo' como la suma de las columnas 'media_de_consumo integrador 1', 'media_de_consumo integrador 2', y 'media_de_consumo integrador 3'\n",
        "df_consumos['Media de consumo'] = df_consumos['media_de_consumo integrador 1'] + df_consumos['media_de_consumo integrador 2'] + df_consumos['media_de_consumo integrador 3']\n",
        "\n",
        "# Elimina las columnas 'media_de_consumo integrador 1', 'media_de_consumo integrador 2', y 'media_de_consumo integrador 3'\n",
        "df_consumos = df_consumos.drop([\"media_de_consumo integrador 1\", \"media_de_consumo integrador 2\", \"media_de_consumo integrador 3\"], axis=1)\n",
        "\n"
      ]
    },
    {
      "cell_type": "markdown",
      "source": [
        "Estos comentarios explican las operaciones realizadas en cada parte del código y su propósito."
      ],
      "metadata": {
        "id": "Q10KJbEw91ZY"
      }
    },
    {
      "cell_type": "code",
      "execution_count": null,
      "metadata": {
        "colab": {
          "base_uri": "https://localhost:8080/",
          "height": 287
        },
        "id": "FCZ5OKzcB3zd",
        "outputId": "e22a5ccc-c664-4c54-9a44-911b7d753a79"
      },
      "outputs": [
        {
          "output_type": "execute_result",
          "data": {
            "text/plain": [
              "fecha_lectura               01/2016       01/2017       01/2018       01/2019  \\\n",
              "cups                                                                            \n",
              "ES0031101457553001TW0F          NaN  1.644500e+06  1.520467e+06  6.545000e+05   \n",
              "ES0031101462487001TL0F          NaN  2.106367e+06  2.645228e+06  1.842900e+06   \n",
              "ES0031102812477001TM0F   354.838710  3.437500e+02  3.437500e+02  2.121212e+02   \n",
              "ES0031102812477002TY0F          NaN  2.000000e+03  1.656250e+03  2.266667e+03   \n",
              "ES0031102812477003TF0F  1806.451613  1.781250e+03  1.078125e+04  7.100000e+03   \n",
              "\n",
              "fecha_lectura                01/2020      02/2016       02/2017       02/2018  \\\n",
              "cups                                                                            \n",
              "ES0031101457553001TW0F  7.141000e+05          NaN  2.069519e+06  1.521684e+06   \n",
              "ES0031101462487001TL0F  1.642400e+06          NaN  2.051963e+06  2.112630e+06   \n",
              "ES0031102812477001TM0F  2.352941e+02   296.296296  3.214286e+02  3.333333e+02   \n",
              "ES0031102812477002TY0F  2.310345e+03          NaN  1.892857e+03  1.633333e+03   \n",
              "ES0031102812477003TF0F  5.264706e+03  3703.703704  3.392857e+03  8.133333e+03   \n",
              "\n",
              "fecha_lectura                02/2019       02/2020  ...        10/2020  \\\n",
              "cups                                                ...                  \n",
              "ES0031101457553001TW0F  7.537407e+05  6.508571e+05  ...            NaN   \n",
              "ES0031101462487001TL0F  2.125481e+06  1.618357e+06  ...  851766.666667   \n",
              "ES0031102812477001TM0F  2.248563e+02  2.068966e+02  ...     187.500000   \n",
              "ES0031102812477002TY0F  2.172414e+03  2.482759e+03  ...    2939.393939   \n",
              "ES0031102812477003TF0F  8.413793e+03  7.655172e+03  ...    3312.500000   \n",
              "\n",
              "fecha_lectura                11/2016       11/2017       11/2018  \\\n",
              "cups                                                               \n",
              "ES0031101457553001TW0F  2.115241e+06  1.554310e+06  2.728621e+05   \n",
              "ES0031101462487001TL0F  2.244000e+06  2.817931e+06  2.090833e+06   \n",
              "ES0031102812477001TM0F  3.103448e+02  3.333333e+02  2.195122e+02   \n",
              "ES0031102812477002TY0F  2.035714e+03  1.818182e+03  1.882353e+03   \n",
              "ES0031102812477003TF0F  1.517241e+03  5.484848e+03  6.882353e+03   \n",
              "\n",
              "fecha_lectura                11/2019      11/2020       12/2016       12/2017  \\\n",
              "cups                                                                            \n",
              "ES0031101457553001TW0F  1.896897e+05          NaN  2.270400e+06  1.420633e+06   \n",
              "ES0031101462487001TL0F  1.506552e+06          NaN  9.615000e+05  1.766867e+06   \n",
              "ES0031102812477001TM0F  2.162162e+02   214.285714  3.548387e+02  3.793103e+02   \n",
              "ES0031102812477002TY0F  3.004113e+03          NaN  2.096774e+03  1.344828e+03   \n",
              "ES0031102812477003TF0F  5.891892e+03  4321.428571  1.935484e+03  8.724138e+03   \n",
              "\n",
              "fecha_lectura                 12/2018       12/2019  \n",
              "cups                                                 \n",
              "ES0031101457553001TW0F  512633.333333  9.209333e+05  \n",
              "ES0031101462487001TL0F  963833.333333  1.243167e+06  \n",
              "ES0031102812477001TM0F     233.333333  2.068966e+02  \n",
              "ES0031102812477002TY0F    8200.000000  2.333333e+03  \n",
              "ES0031102812477003TF0F    8066.666667  5.275862e+03  \n",
              "\n",
              "[5 rows x 59 columns]"
            ],
            "text/html": [
              "\n",
              "  <div id=\"df-60e28a67-84ac-4c9a-b7af-94cf9083f6bc\" class=\"colab-df-container\">\n",
              "    <div>\n",
              "<style scoped>\n",
              "    .dataframe tbody tr th:only-of-type {\n",
              "        vertical-align: middle;\n",
              "    }\n",
              "\n",
              "    .dataframe tbody tr th {\n",
              "        vertical-align: top;\n",
              "    }\n",
              "\n",
              "    .dataframe thead th {\n",
              "        text-align: right;\n",
              "    }\n",
              "</style>\n",
              "<table border=\"1\" class=\"dataframe\">\n",
              "  <thead>\n",
              "    <tr style=\"text-align: right;\">\n",
              "      <th>fecha_lectura</th>\n",
              "      <th>01/2016</th>\n",
              "      <th>01/2017</th>\n",
              "      <th>01/2018</th>\n",
              "      <th>01/2019</th>\n",
              "      <th>01/2020</th>\n",
              "      <th>02/2016</th>\n",
              "      <th>02/2017</th>\n",
              "      <th>02/2018</th>\n",
              "      <th>02/2019</th>\n",
              "      <th>02/2020</th>\n",
              "      <th>...</th>\n",
              "      <th>10/2020</th>\n",
              "      <th>11/2016</th>\n",
              "      <th>11/2017</th>\n",
              "      <th>11/2018</th>\n",
              "      <th>11/2019</th>\n",
              "      <th>11/2020</th>\n",
              "      <th>12/2016</th>\n",
              "      <th>12/2017</th>\n",
              "      <th>12/2018</th>\n",
              "      <th>12/2019</th>\n",
              "    </tr>\n",
              "    <tr>\n",
              "      <th>cups</th>\n",
              "      <th></th>\n",
              "      <th></th>\n",
              "      <th></th>\n",
              "      <th></th>\n",
              "      <th></th>\n",
              "      <th></th>\n",
              "      <th></th>\n",
              "      <th></th>\n",
              "      <th></th>\n",
              "      <th></th>\n",
              "      <th></th>\n",
              "      <th></th>\n",
              "      <th></th>\n",
              "      <th></th>\n",
              "      <th></th>\n",
              "      <th></th>\n",
              "      <th></th>\n",
              "      <th></th>\n",
              "      <th></th>\n",
              "      <th></th>\n",
              "      <th></th>\n",
              "    </tr>\n",
              "  </thead>\n",
              "  <tbody>\n",
              "    <tr>\n",
              "      <th>ES0031101457553001TW0F</th>\n",
              "      <td>NaN</td>\n",
              "      <td>1.644500e+06</td>\n",
              "      <td>1.520467e+06</td>\n",
              "      <td>6.545000e+05</td>\n",
              "      <td>7.141000e+05</td>\n",
              "      <td>NaN</td>\n",
              "      <td>2.069519e+06</td>\n",
              "      <td>1.521684e+06</td>\n",
              "      <td>7.537407e+05</td>\n",
              "      <td>6.508571e+05</td>\n",
              "      <td>...</td>\n",
              "      <td>NaN</td>\n",
              "      <td>2.115241e+06</td>\n",
              "      <td>1.554310e+06</td>\n",
              "      <td>2.728621e+05</td>\n",
              "      <td>1.896897e+05</td>\n",
              "      <td>NaN</td>\n",
              "      <td>2.270400e+06</td>\n",
              "      <td>1.420633e+06</td>\n",
              "      <td>512633.333333</td>\n",
              "      <td>9.209333e+05</td>\n",
              "    </tr>\n",
              "    <tr>\n",
              "      <th>ES0031101462487001TL0F</th>\n",
              "      <td>NaN</td>\n",
              "      <td>2.106367e+06</td>\n",
              "      <td>2.645228e+06</td>\n",
              "      <td>1.842900e+06</td>\n",
              "      <td>1.642400e+06</td>\n",
              "      <td>NaN</td>\n",
              "      <td>2.051963e+06</td>\n",
              "      <td>2.112630e+06</td>\n",
              "      <td>2.125481e+06</td>\n",
              "      <td>1.618357e+06</td>\n",
              "      <td>...</td>\n",
              "      <td>851766.666667</td>\n",
              "      <td>2.244000e+06</td>\n",
              "      <td>2.817931e+06</td>\n",
              "      <td>2.090833e+06</td>\n",
              "      <td>1.506552e+06</td>\n",
              "      <td>NaN</td>\n",
              "      <td>9.615000e+05</td>\n",
              "      <td>1.766867e+06</td>\n",
              "      <td>963833.333333</td>\n",
              "      <td>1.243167e+06</td>\n",
              "    </tr>\n",
              "    <tr>\n",
              "      <th>ES0031102812477001TM0F</th>\n",
              "      <td>354.838710</td>\n",
              "      <td>3.437500e+02</td>\n",
              "      <td>3.437500e+02</td>\n",
              "      <td>2.121212e+02</td>\n",
              "      <td>2.352941e+02</td>\n",
              "      <td>296.296296</td>\n",
              "      <td>3.214286e+02</td>\n",
              "      <td>3.333333e+02</td>\n",
              "      <td>2.248563e+02</td>\n",
              "      <td>2.068966e+02</td>\n",
              "      <td>...</td>\n",
              "      <td>187.500000</td>\n",
              "      <td>3.103448e+02</td>\n",
              "      <td>3.333333e+02</td>\n",
              "      <td>2.195122e+02</td>\n",
              "      <td>2.162162e+02</td>\n",
              "      <td>214.285714</td>\n",
              "      <td>3.548387e+02</td>\n",
              "      <td>3.793103e+02</td>\n",
              "      <td>233.333333</td>\n",
              "      <td>2.068966e+02</td>\n",
              "    </tr>\n",
              "    <tr>\n",
              "      <th>ES0031102812477002TY0F</th>\n",
              "      <td>NaN</td>\n",
              "      <td>2.000000e+03</td>\n",
              "      <td>1.656250e+03</td>\n",
              "      <td>2.266667e+03</td>\n",
              "      <td>2.310345e+03</td>\n",
              "      <td>NaN</td>\n",
              "      <td>1.892857e+03</td>\n",
              "      <td>1.633333e+03</td>\n",
              "      <td>2.172414e+03</td>\n",
              "      <td>2.482759e+03</td>\n",
              "      <td>...</td>\n",
              "      <td>2939.393939</td>\n",
              "      <td>2.035714e+03</td>\n",
              "      <td>1.818182e+03</td>\n",
              "      <td>1.882353e+03</td>\n",
              "      <td>3.004113e+03</td>\n",
              "      <td>NaN</td>\n",
              "      <td>2.096774e+03</td>\n",
              "      <td>1.344828e+03</td>\n",
              "      <td>8200.000000</td>\n",
              "      <td>2.333333e+03</td>\n",
              "    </tr>\n",
              "    <tr>\n",
              "      <th>ES0031102812477003TF0F</th>\n",
              "      <td>1806.451613</td>\n",
              "      <td>1.781250e+03</td>\n",
              "      <td>1.078125e+04</td>\n",
              "      <td>7.100000e+03</td>\n",
              "      <td>5.264706e+03</td>\n",
              "      <td>3703.703704</td>\n",
              "      <td>3.392857e+03</td>\n",
              "      <td>8.133333e+03</td>\n",
              "      <td>8.413793e+03</td>\n",
              "      <td>7.655172e+03</td>\n",
              "      <td>...</td>\n",
              "      <td>3312.500000</td>\n",
              "      <td>1.517241e+03</td>\n",
              "      <td>5.484848e+03</td>\n",
              "      <td>6.882353e+03</td>\n",
              "      <td>5.891892e+03</td>\n",
              "      <td>4321.428571</td>\n",
              "      <td>1.935484e+03</td>\n",
              "      <td>8.724138e+03</td>\n",
              "      <td>8066.666667</td>\n",
              "      <td>5.275862e+03</td>\n",
              "    </tr>\n",
              "  </tbody>\n",
              "</table>\n",
              "<p>5 rows × 59 columns</p>\n",
              "</div>\n",
              "    <div class=\"colab-df-buttons\">\n",
              "\n",
              "  <div class=\"colab-df-container\">\n",
              "    <button class=\"colab-df-convert\" onclick=\"convertToInteractive('df-60e28a67-84ac-4c9a-b7af-94cf9083f6bc')\"\n",
              "            title=\"Convert this dataframe to an interactive table.\"\n",
              "            style=\"display:none;\">\n",
              "\n",
              "  <svg xmlns=\"http://www.w3.org/2000/svg\" height=\"24px\" viewBox=\"0 -960 960 960\">\n",
              "    <path d=\"M120-120v-720h720v720H120Zm60-500h600v-160H180v160Zm220 220h160v-160H400v160Zm0 220h160v-160H400v160ZM180-400h160v-160H180v160Zm440 0h160v-160H620v160ZM180-180h160v-160H180v160Zm440 0h160v-160H620v160Z\"/>\n",
              "  </svg>\n",
              "    </button>\n",
              "\n",
              "  <style>\n",
              "    .colab-df-container {\n",
              "      display:flex;\n",
              "      gap: 12px;\n",
              "    }\n",
              "\n",
              "    .colab-df-convert {\n",
              "      background-color: #E8F0FE;\n",
              "      border: none;\n",
              "      border-radius: 50%;\n",
              "      cursor: pointer;\n",
              "      display: none;\n",
              "      fill: #1967D2;\n",
              "      height: 32px;\n",
              "      padding: 0 0 0 0;\n",
              "      width: 32px;\n",
              "    }\n",
              "\n",
              "    .colab-df-convert:hover {\n",
              "      background-color: #E2EBFA;\n",
              "      box-shadow: 0px 1px 2px rgba(60, 64, 67, 0.3), 0px 1px 3px 1px rgba(60, 64, 67, 0.15);\n",
              "      fill: #174EA6;\n",
              "    }\n",
              "\n",
              "    .colab-df-buttons div {\n",
              "      margin-bottom: 4px;\n",
              "    }\n",
              "\n",
              "    [theme=dark] .colab-df-convert {\n",
              "      background-color: #3B4455;\n",
              "      fill: #D2E3FC;\n",
              "    }\n",
              "\n",
              "    [theme=dark] .colab-df-convert:hover {\n",
              "      background-color: #434B5C;\n",
              "      box-shadow: 0px 1px 3px 1px rgba(0, 0, 0, 0.15);\n",
              "      filter: drop-shadow(0px 1px 2px rgba(0, 0, 0, 0.3));\n",
              "      fill: #FFFFFF;\n",
              "    }\n",
              "  </style>\n",
              "\n",
              "    <script>\n",
              "      const buttonEl =\n",
              "        document.querySelector('#df-60e28a67-84ac-4c9a-b7af-94cf9083f6bc button.colab-df-convert');\n",
              "      buttonEl.style.display =\n",
              "        google.colab.kernel.accessAllowed ? 'block' : 'none';\n",
              "\n",
              "      async function convertToInteractive(key) {\n",
              "        const element = document.querySelector('#df-60e28a67-84ac-4c9a-b7af-94cf9083f6bc');\n",
              "        const dataTable =\n",
              "          await google.colab.kernel.invokeFunction('convertToInteractive',\n",
              "                                                    [key], {});\n",
              "        if (!dataTable) return;\n",
              "\n",
              "        const docLinkHtml = 'Like what you see? Visit the ' +\n",
              "          '<a target=\"_blank\" href=https://colab.research.google.com/notebooks/data_table.ipynb>data table notebook</a>'\n",
              "          + ' to learn more about interactive tables.';\n",
              "        element.innerHTML = '';\n",
              "        dataTable['output_type'] = 'display_data';\n",
              "        await google.colab.output.renderOutput(dataTable, element);\n",
              "        const docLink = document.createElement('div');\n",
              "        docLink.innerHTML = docLinkHtml;\n",
              "        element.appendChild(docLink);\n",
              "      }\n",
              "    </script>\n",
              "  </div>\n",
              "\n",
              "\n",
              "<div id=\"df-e46aca87-275a-423d-8b9e-79a57f2614f2\">\n",
              "  <button class=\"colab-df-quickchart\" onclick=\"quickchart('df-e46aca87-275a-423d-8b9e-79a57f2614f2')\"\n",
              "            title=\"Suggest charts\"\n",
              "            style=\"display:none;\">\n",
              "\n",
              "<svg xmlns=\"http://www.w3.org/2000/svg\" height=\"24px\"viewBox=\"0 0 24 24\"\n",
              "     width=\"24px\">\n",
              "    <g>\n",
              "        <path d=\"M19 3H5c-1.1 0-2 .9-2 2v14c0 1.1.9 2 2 2h14c1.1 0 2-.9 2-2V5c0-1.1-.9-2-2-2zM9 17H7v-7h2v7zm4 0h-2V7h2v10zm4 0h-2v-4h2v4z\"/>\n",
              "    </g>\n",
              "</svg>\n",
              "  </button>\n",
              "\n",
              "<style>\n",
              "  .colab-df-quickchart {\n",
              "      --bg-color: #E8F0FE;\n",
              "      --fill-color: #1967D2;\n",
              "      --hover-bg-color: #E2EBFA;\n",
              "      --hover-fill-color: #174EA6;\n",
              "      --disabled-fill-color: #AAA;\n",
              "      --disabled-bg-color: #DDD;\n",
              "  }\n",
              "\n",
              "  [theme=dark] .colab-df-quickchart {\n",
              "      --bg-color: #3B4455;\n",
              "      --fill-color: #D2E3FC;\n",
              "      --hover-bg-color: #434B5C;\n",
              "      --hover-fill-color: #FFFFFF;\n",
              "      --disabled-bg-color: #3B4455;\n",
              "      --disabled-fill-color: #666;\n",
              "  }\n",
              "\n",
              "  .colab-df-quickchart {\n",
              "    background-color: var(--bg-color);\n",
              "    border: none;\n",
              "    border-radius: 50%;\n",
              "    cursor: pointer;\n",
              "    display: none;\n",
              "    fill: var(--fill-color);\n",
              "    height: 32px;\n",
              "    padding: 0;\n",
              "    width: 32px;\n",
              "  }\n",
              "\n",
              "  .colab-df-quickchart:hover {\n",
              "    background-color: var(--hover-bg-color);\n",
              "    box-shadow: 0 1px 2px rgba(60, 64, 67, 0.3), 0 1px 3px 1px rgba(60, 64, 67, 0.15);\n",
              "    fill: var(--button-hover-fill-color);\n",
              "  }\n",
              "\n",
              "  .colab-df-quickchart-complete:disabled,\n",
              "  .colab-df-quickchart-complete:disabled:hover {\n",
              "    background-color: var(--disabled-bg-color);\n",
              "    fill: var(--disabled-fill-color);\n",
              "    box-shadow: none;\n",
              "  }\n",
              "\n",
              "  .colab-df-spinner {\n",
              "    border: 2px solid var(--fill-color);\n",
              "    border-color: transparent;\n",
              "    border-bottom-color: var(--fill-color);\n",
              "    animation:\n",
              "      spin 1s steps(1) infinite;\n",
              "  }\n",
              "\n",
              "  @keyframes spin {\n",
              "    0% {\n",
              "      border-color: transparent;\n",
              "      border-bottom-color: var(--fill-color);\n",
              "      border-left-color: var(--fill-color);\n",
              "    }\n",
              "    20% {\n",
              "      border-color: transparent;\n",
              "      border-left-color: var(--fill-color);\n",
              "      border-top-color: var(--fill-color);\n",
              "    }\n",
              "    30% {\n",
              "      border-color: transparent;\n",
              "      border-left-color: var(--fill-color);\n",
              "      border-top-color: var(--fill-color);\n",
              "      border-right-color: var(--fill-color);\n",
              "    }\n",
              "    40% {\n",
              "      border-color: transparent;\n",
              "      border-right-color: var(--fill-color);\n",
              "      border-top-color: var(--fill-color);\n",
              "    }\n",
              "    60% {\n",
              "      border-color: transparent;\n",
              "      border-right-color: var(--fill-color);\n",
              "    }\n",
              "    80% {\n",
              "      border-color: transparent;\n",
              "      border-right-color: var(--fill-color);\n",
              "      border-bottom-color: var(--fill-color);\n",
              "    }\n",
              "    90% {\n",
              "      border-color: transparent;\n",
              "      border-bottom-color: var(--fill-color);\n",
              "    }\n",
              "  }\n",
              "</style>\n",
              "\n",
              "  <script>\n",
              "    async function quickchart(key) {\n",
              "      const quickchartButtonEl =\n",
              "        document.querySelector('#' + key + ' button');\n",
              "      quickchartButtonEl.disabled = true;  // To prevent multiple clicks.\n",
              "      quickchartButtonEl.classList.add('colab-df-spinner');\n",
              "      try {\n",
              "        const charts = await google.colab.kernel.invokeFunction(\n",
              "            'suggestCharts', [key], {});\n",
              "      } catch (error) {\n",
              "        console.error('Error during call to suggestCharts:', error);\n",
              "      }\n",
              "      quickchartButtonEl.classList.remove('colab-df-spinner');\n",
              "      quickchartButtonEl.classList.add('colab-df-quickchart-complete');\n",
              "    }\n",
              "    (() => {\n",
              "      let quickchartButtonEl =\n",
              "        document.querySelector('#df-e46aca87-275a-423d-8b9e-79a57f2614f2 button');\n",
              "      quickchartButtonEl.style.display =\n",
              "        google.colab.kernel.accessAllowed ? 'block' : 'none';\n",
              "    })();\n",
              "  </script>\n",
              "</div>\n",
              "    </div>\n",
              "  </div>\n"
            ]
          },
          "metadata": {},
          "execution_count": 4
        }
      ],
      "source": [
        "# Lee un archivo CSV llamado \"CUPS.csv\" y lo carga en un DataFrame df_cups, utilizando \";\" como separador\n",
        "df_cups = pd.read_csv(\"/content/drive/MyDrive/TFM/CUPS.csv\", sep=';')\n",
        "\n",
        "# Reinicia el índice del DataFrame df_consumos\n",
        "df_consumos = df_consumos.reset_index()\n",
        "\n",
        "# Establece la columna 'cups' como el índice del DataFrame df_consumos\n",
        "df_consumos = df_consumos.set_index('cups')\n",
        "\n",
        "# Pivota el primer DataFrame para que las fechas se conviertan en columnas\n",
        "df_consumos = df_consumos.pivot(columns='fecha_lectura', values='Media de consumo')\n",
        "\n",
        "df_consumos.head()"
      ]
    },
    {
      "cell_type": "markdown",
      "source": [
        "Estos comentarios explican cada paso del código, desde la lectura del archivo CSV y la creación de DataFrames hasta la manipulación de los índices y la asignación de valores nulos en las columnas de 'df_datos'."
      ],
      "metadata": {
        "id": "kKs96eGa94sp"
      }
    },
    {
      "cell_type": "code",
      "execution_count": null,
      "metadata": {
        "id": "sVfMiFmn62qM"
      },
      "outputs": [],
      "source": [
        "df_fraudes = pd.read_csv(\"/content/drive/MyDrive/TFM/Fraudes.csv\", sep=';')\n",
        "\n",
        "df_consumos = df_consumos.assign(Class=df_consumos.index.isin(df_fraudes.CUPS).astype(int))\n",
        "\n",
        "# Write the DataFrame to CSV file.\n",
        "with open('/content/drive/MyDrive/TFM/datos.csv', 'w') as f:\n",
        "  df_consumos.to_csv(f)\n",
        "\n",
        "\n",
        "#df_vups = pd.read_csv(\"/content/drive/MyDrive/TFM/VUPS.csv\", sep=';')\n",
        "#df_integradores = pd.read_csv(\"/content/drive/MyDrive/TFM/Integradores.csv\", sep=';')\n",
        "#df_cnae = pd.read_csv(\"/content/drive/MyDrive/TFM/CNAE.csv\", sep=';')"
      ]
    },
    {
      "cell_type": "markdown",
      "source": [
        "Definimos la función para rellenar las lecturas vacías"
      ],
      "metadata": {
        "id": "Fff2_-eedVN4"
      }
    },
    {
      "cell_type": "code",
      "source": [
        "def rellenar_lecturas_vacias(dataframe):\n",
        "    # Iterar sobre cada fila (punto de lectura)\n",
        "    for indice, fila in dataframe.iterrows():\n",
        "        # Iterar sobre cada columna (mes)\n",
        "        for columna in dataframe.columns:\n",
        "            # Verificar si el valor es NaN (lectura vacía)\n",
        "            if pd.isna(fila[columna]):\n",
        "                # Calcular la media de los meses adyacentes si están disponibles\n",
        "                posicion_columna = dataframe.columns.get_loc(columna)\n",
        "                if posicion_columna > 0 and not pd.isna(fila[dataframe.columns[posicion_columna - 1]]):\n",
        "                    valor_anterior = fila[dataframe.columns[posicion_columna - 1]]\n",
        "                else:\n",
        "                    valor_anterior = 0  # Puedes ajustar esto según tus necesidades\n",
        "\n",
        "                if posicion_columna < len(dataframe.columns) - 1 and not pd.isna(fila[dataframe.columns[posicion_columna + 1]]):\n",
        "                    valor_siguiente = fila[dataframe.columns[posicion_columna + 1]]\n",
        "                else:\n",
        "                    valor_siguiente = 0  # Puedes ajustar esto según tus necesidades\n",
        "\n",
        "                # Calcular la media y asignar el valor\n",
        "                media = (valor_anterior + valor_siguiente) / 2\n",
        "                dataframe.at[indice, columna] = media\n",
        "\n",
        "    return dataframe"
      ],
      "metadata": {
        "id": "D2lSTRz8dWsb"
      },
      "execution_count": null,
      "outputs": []
    },
    {
      "cell_type": "markdown",
      "source": [
        "Contamos los NaN antes de aplicar la función de relleno"
      ],
      "metadata": {
        "id": "7uAuR2VrdYPc"
      }
    },
    {
      "cell_type": "code",
      "source": [
        "count_nan = df_consumos.isna().sum().sum()\n",
        "print ('Count of NaN: ' + str(count_nan))"
      ],
      "metadata": {
        "colab": {
          "base_uri": "https://localhost:8080/"
        },
        "id": "K8gtCjdadZ-y",
        "outputId": "a95e56c3-a991-41bb-ee9a-7bee251ba431"
      },
      "execution_count": null,
      "outputs": [
        {
          "output_type": "stream",
          "name": "stdout",
          "text": [
            "Count of NaN: 174949\n"
          ]
        }
      ]
    },
    {
      "cell_type": "markdown",
      "source": [
        "Rellenamos los NaN y volvemos a contar"
      ],
      "metadata": {
        "id": "9QgBRkiVJXBI"
      }
    },
    {
      "cell_type": "code",
      "source": [
        "dataframe_relleno = rellenar_lecturas_vacias(df_consumos)\n",
        "\n",
        "count_nan = dataframe_relleno.isna().sum().sum()\n",
        "print ('Count of NaN: ' + str(count_nan))"
      ],
      "metadata": {
        "colab": {
          "base_uri": "https://localhost:8080/"
        },
        "id": "x4ty-Sw5JfI2",
        "outputId": "2131ca5c-0a80-4437-8fde-ad10730c977b"
      },
      "execution_count": null,
      "outputs": [
        {
          "output_type": "stream",
          "name": "stdout",
          "text": [
            "Count of NaN: 0\n"
          ]
        }
      ]
    },
    {
      "cell_type": "markdown",
      "metadata": {
        "id": "6XjGaL9QsO8u"
      },
      "source": [
        "Actualizamos el dataframe y lo mostramos\n",
        "\n"
      ]
    },
    {
      "cell_type": "code",
      "execution_count": null,
      "metadata": {
        "id": "04J5VmbFsVBR",
        "colab": {
          "base_uri": "https://localhost:8080/",
          "height": 304
        },
        "outputId": "5dc36156-f98a-43f1-b956-e73c451fb6e9"
      },
      "outputs": [
        {
          "output_type": "stream",
          "name": "stdout",
          "text": [
            "Updated Dataframe:\n"
          ]
        },
        {
          "output_type": "execute_result",
          "data": {
            "text/plain": [
              "fecha_lectura                01/2016       01/2017       01/2018  \\\n",
              "cups                                                               \n",
              "ES0031101457553001TW0F  8.222500e+05  1.644500e+06  1.520467e+06   \n",
              "ES0031101462487001TL0F  1.053183e+06  2.106367e+06  2.645228e+06   \n",
              "ES0031102812477001TM0F  3.548387e+02  3.437500e+02  3.437500e+02   \n",
              "ES0031102812477002TY0F  1.000000e+03  2.000000e+03  1.656250e+03   \n",
              "ES0031102812477003TF0F  1.806452e+03  1.781250e+03  1.078125e+04   \n",
              "\n",
              "fecha_lectura                01/2019       01/2020       02/2016  \\\n",
              "cups                                                               \n",
              "ES0031101457553001TW0F  6.545000e+05  7.141000e+05  1.391809e+06   \n",
              "ES0031101462487001TL0F  1.842900e+06  1.642400e+06  1.847181e+06   \n",
              "ES0031102812477001TM0F  2.121212e+02  2.352941e+02  2.962963e+02   \n",
              "ES0031102812477002TY0F  2.266667e+03  2.310345e+03  2.101601e+03   \n",
              "ES0031102812477003TF0F  7.100000e+03  5.264706e+03  3.703704e+03   \n",
              "\n",
              "fecha_lectura                02/2017       02/2018       02/2019  \\\n",
              "cups                                                               \n",
              "ES0031101457553001TW0F  2.069519e+06  1.521684e+06  7.537407e+05   \n",
              "ES0031101462487001TL0F  2.051963e+06  2.112630e+06  2.125481e+06   \n",
              "ES0031102812477001TM0F  3.214286e+02  3.333333e+02  2.248563e+02   \n",
              "ES0031102812477002TY0F  1.892857e+03  1.633333e+03  2.172414e+03   \n",
              "ES0031102812477003TF0F  3.392857e+03  8.133333e+03  8.413793e+03   \n",
              "\n",
              "fecha_lectura                02/2020  ...       11/2016       11/2017  \\\n",
              "cups                                  ...                               \n",
              "ES0031101457553001TW0F  6.508571e+05  ...  2.115241e+06  1.554310e+06   \n",
              "ES0031101462487001TL0F  1.618357e+06  ...  2.244000e+06  2.817931e+06   \n",
              "ES0031102812477001TM0F  2.068966e+02  ...  3.103448e+02  3.333333e+02   \n",
              "ES0031102812477002TY0F  2.482759e+03  ...  2.035714e+03  1.818182e+03   \n",
              "ES0031102812477003TF0F  7.655172e+03  ...  1.517241e+03  5.484848e+03   \n",
              "\n",
              "fecha_lectura                11/2018       11/2019       11/2020  \\\n",
              "cups                                                               \n",
              "ES0031101457553001TW0F  2.728621e+05  1.896897e+05  1.230045e+06   \n",
              "ES0031101462487001TL0F  2.090833e+06  1.506552e+06  1.234026e+06   \n",
              "ES0031102812477001TM0F  2.195122e+02  2.162162e+02  2.142857e+02   \n",
              "ES0031102812477002TY0F  1.882353e+03  3.004113e+03  2.550444e+03   \n",
              "ES0031102812477003TF0F  6.882353e+03  5.891892e+03  4.321429e+03   \n",
              "\n",
              "fecha_lectura                12/2016       12/2017        12/2018  \\\n",
              "cups                                                                \n",
              "ES0031101457553001TW0F  2.270400e+06  1.420633e+06  512633.333333   \n",
              "ES0031101462487001TL0F  9.615000e+05  1.766867e+06  963833.333333   \n",
              "ES0031102812477001TM0F  3.548387e+02  3.793103e+02     233.333333   \n",
              "ES0031102812477002TY0F  2.096774e+03  1.344828e+03    8200.000000   \n",
              "ES0031102812477003TF0F  1.935484e+03  8.724138e+03    8066.666667   \n",
              "\n",
              "fecha_lectura                12/2019  Class  \n",
              "cups                                         \n",
              "ES0031101457553001TW0F  9.209333e+05      0  \n",
              "ES0031101462487001TL0F  1.243167e+06      0  \n",
              "ES0031102812477001TM0F  2.068966e+02      0  \n",
              "ES0031102812477002TY0F  2.333333e+03      0  \n",
              "ES0031102812477003TF0F  5.275862e+03      0  \n",
              "\n",
              "[5 rows x 60 columns]"
            ],
            "text/html": [
              "\n",
              "  <div id=\"df-d3a62c38-31ba-4c88-be87-cf1b12e63202\" class=\"colab-df-container\">\n",
              "    <div>\n",
              "<style scoped>\n",
              "    .dataframe tbody tr th:only-of-type {\n",
              "        vertical-align: middle;\n",
              "    }\n",
              "\n",
              "    .dataframe tbody tr th {\n",
              "        vertical-align: top;\n",
              "    }\n",
              "\n",
              "    .dataframe thead th {\n",
              "        text-align: right;\n",
              "    }\n",
              "</style>\n",
              "<table border=\"1\" class=\"dataframe\">\n",
              "  <thead>\n",
              "    <tr style=\"text-align: right;\">\n",
              "      <th>fecha_lectura</th>\n",
              "      <th>01/2016</th>\n",
              "      <th>01/2017</th>\n",
              "      <th>01/2018</th>\n",
              "      <th>01/2019</th>\n",
              "      <th>01/2020</th>\n",
              "      <th>02/2016</th>\n",
              "      <th>02/2017</th>\n",
              "      <th>02/2018</th>\n",
              "      <th>02/2019</th>\n",
              "      <th>02/2020</th>\n",
              "      <th>...</th>\n",
              "      <th>11/2016</th>\n",
              "      <th>11/2017</th>\n",
              "      <th>11/2018</th>\n",
              "      <th>11/2019</th>\n",
              "      <th>11/2020</th>\n",
              "      <th>12/2016</th>\n",
              "      <th>12/2017</th>\n",
              "      <th>12/2018</th>\n",
              "      <th>12/2019</th>\n",
              "      <th>Class</th>\n",
              "    </tr>\n",
              "    <tr>\n",
              "      <th>cups</th>\n",
              "      <th></th>\n",
              "      <th></th>\n",
              "      <th></th>\n",
              "      <th></th>\n",
              "      <th></th>\n",
              "      <th></th>\n",
              "      <th></th>\n",
              "      <th></th>\n",
              "      <th></th>\n",
              "      <th></th>\n",
              "      <th></th>\n",
              "      <th></th>\n",
              "      <th></th>\n",
              "      <th></th>\n",
              "      <th></th>\n",
              "      <th></th>\n",
              "      <th></th>\n",
              "      <th></th>\n",
              "      <th></th>\n",
              "      <th></th>\n",
              "      <th></th>\n",
              "    </tr>\n",
              "  </thead>\n",
              "  <tbody>\n",
              "    <tr>\n",
              "      <th>ES0031101457553001TW0F</th>\n",
              "      <td>8.222500e+05</td>\n",
              "      <td>1.644500e+06</td>\n",
              "      <td>1.520467e+06</td>\n",
              "      <td>6.545000e+05</td>\n",
              "      <td>7.141000e+05</td>\n",
              "      <td>1.391809e+06</td>\n",
              "      <td>2.069519e+06</td>\n",
              "      <td>1.521684e+06</td>\n",
              "      <td>7.537407e+05</td>\n",
              "      <td>6.508571e+05</td>\n",
              "      <td>...</td>\n",
              "      <td>2.115241e+06</td>\n",
              "      <td>1.554310e+06</td>\n",
              "      <td>2.728621e+05</td>\n",
              "      <td>1.896897e+05</td>\n",
              "      <td>1.230045e+06</td>\n",
              "      <td>2.270400e+06</td>\n",
              "      <td>1.420633e+06</td>\n",
              "      <td>512633.333333</td>\n",
              "      <td>9.209333e+05</td>\n",
              "      <td>0</td>\n",
              "    </tr>\n",
              "    <tr>\n",
              "      <th>ES0031101462487001TL0F</th>\n",
              "      <td>1.053183e+06</td>\n",
              "      <td>2.106367e+06</td>\n",
              "      <td>2.645228e+06</td>\n",
              "      <td>1.842900e+06</td>\n",
              "      <td>1.642400e+06</td>\n",
              "      <td>1.847181e+06</td>\n",
              "      <td>2.051963e+06</td>\n",
              "      <td>2.112630e+06</td>\n",
              "      <td>2.125481e+06</td>\n",
              "      <td>1.618357e+06</td>\n",
              "      <td>...</td>\n",
              "      <td>2.244000e+06</td>\n",
              "      <td>2.817931e+06</td>\n",
              "      <td>2.090833e+06</td>\n",
              "      <td>1.506552e+06</td>\n",
              "      <td>1.234026e+06</td>\n",
              "      <td>9.615000e+05</td>\n",
              "      <td>1.766867e+06</td>\n",
              "      <td>963833.333333</td>\n",
              "      <td>1.243167e+06</td>\n",
              "      <td>0</td>\n",
              "    </tr>\n",
              "    <tr>\n",
              "      <th>ES0031102812477001TM0F</th>\n",
              "      <td>3.548387e+02</td>\n",
              "      <td>3.437500e+02</td>\n",
              "      <td>3.437500e+02</td>\n",
              "      <td>2.121212e+02</td>\n",
              "      <td>2.352941e+02</td>\n",
              "      <td>2.962963e+02</td>\n",
              "      <td>3.214286e+02</td>\n",
              "      <td>3.333333e+02</td>\n",
              "      <td>2.248563e+02</td>\n",
              "      <td>2.068966e+02</td>\n",
              "      <td>...</td>\n",
              "      <td>3.103448e+02</td>\n",
              "      <td>3.333333e+02</td>\n",
              "      <td>2.195122e+02</td>\n",
              "      <td>2.162162e+02</td>\n",
              "      <td>2.142857e+02</td>\n",
              "      <td>3.548387e+02</td>\n",
              "      <td>3.793103e+02</td>\n",
              "      <td>233.333333</td>\n",
              "      <td>2.068966e+02</td>\n",
              "      <td>0</td>\n",
              "    </tr>\n",
              "    <tr>\n",
              "      <th>ES0031102812477002TY0F</th>\n",
              "      <td>1.000000e+03</td>\n",
              "      <td>2.000000e+03</td>\n",
              "      <td>1.656250e+03</td>\n",
              "      <td>2.266667e+03</td>\n",
              "      <td>2.310345e+03</td>\n",
              "      <td>2.101601e+03</td>\n",
              "      <td>1.892857e+03</td>\n",
              "      <td>1.633333e+03</td>\n",
              "      <td>2.172414e+03</td>\n",
              "      <td>2.482759e+03</td>\n",
              "      <td>...</td>\n",
              "      <td>2.035714e+03</td>\n",
              "      <td>1.818182e+03</td>\n",
              "      <td>1.882353e+03</td>\n",
              "      <td>3.004113e+03</td>\n",
              "      <td>2.550444e+03</td>\n",
              "      <td>2.096774e+03</td>\n",
              "      <td>1.344828e+03</td>\n",
              "      <td>8200.000000</td>\n",
              "      <td>2.333333e+03</td>\n",
              "      <td>0</td>\n",
              "    </tr>\n",
              "    <tr>\n",
              "      <th>ES0031102812477003TF0F</th>\n",
              "      <td>1.806452e+03</td>\n",
              "      <td>1.781250e+03</td>\n",
              "      <td>1.078125e+04</td>\n",
              "      <td>7.100000e+03</td>\n",
              "      <td>5.264706e+03</td>\n",
              "      <td>3.703704e+03</td>\n",
              "      <td>3.392857e+03</td>\n",
              "      <td>8.133333e+03</td>\n",
              "      <td>8.413793e+03</td>\n",
              "      <td>7.655172e+03</td>\n",
              "      <td>...</td>\n",
              "      <td>1.517241e+03</td>\n",
              "      <td>5.484848e+03</td>\n",
              "      <td>6.882353e+03</td>\n",
              "      <td>5.891892e+03</td>\n",
              "      <td>4.321429e+03</td>\n",
              "      <td>1.935484e+03</td>\n",
              "      <td>8.724138e+03</td>\n",
              "      <td>8066.666667</td>\n",
              "      <td>5.275862e+03</td>\n",
              "      <td>0</td>\n",
              "    </tr>\n",
              "  </tbody>\n",
              "</table>\n",
              "<p>5 rows × 60 columns</p>\n",
              "</div>\n",
              "    <div class=\"colab-df-buttons\">\n",
              "\n",
              "  <div class=\"colab-df-container\">\n",
              "    <button class=\"colab-df-convert\" onclick=\"convertToInteractive('df-d3a62c38-31ba-4c88-be87-cf1b12e63202')\"\n",
              "            title=\"Convert this dataframe to an interactive table.\"\n",
              "            style=\"display:none;\">\n",
              "\n",
              "  <svg xmlns=\"http://www.w3.org/2000/svg\" height=\"24px\" viewBox=\"0 -960 960 960\">\n",
              "    <path d=\"M120-120v-720h720v720H120Zm60-500h600v-160H180v160Zm220 220h160v-160H400v160Zm0 220h160v-160H400v160ZM180-400h160v-160H180v160Zm440 0h160v-160H620v160ZM180-180h160v-160H180v160Zm440 0h160v-160H620v160Z\"/>\n",
              "  </svg>\n",
              "    </button>\n",
              "\n",
              "  <style>\n",
              "    .colab-df-container {\n",
              "      display:flex;\n",
              "      gap: 12px;\n",
              "    }\n",
              "\n",
              "    .colab-df-convert {\n",
              "      background-color: #E8F0FE;\n",
              "      border: none;\n",
              "      border-radius: 50%;\n",
              "      cursor: pointer;\n",
              "      display: none;\n",
              "      fill: #1967D2;\n",
              "      height: 32px;\n",
              "      padding: 0 0 0 0;\n",
              "      width: 32px;\n",
              "    }\n",
              "\n",
              "    .colab-df-convert:hover {\n",
              "      background-color: #E2EBFA;\n",
              "      box-shadow: 0px 1px 2px rgba(60, 64, 67, 0.3), 0px 1px 3px 1px rgba(60, 64, 67, 0.15);\n",
              "      fill: #174EA6;\n",
              "    }\n",
              "\n",
              "    .colab-df-buttons div {\n",
              "      margin-bottom: 4px;\n",
              "    }\n",
              "\n",
              "    [theme=dark] .colab-df-convert {\n",
              "      background-color: #3B4455;\n",
              "      fill: #D2E3FC;\n",
              "    }\n",
              "\n",
              "    [theme=dark] .colab-df-convert:hover {\n",
              "      background-color: #434B5C;\n",
              "      box-shadow: 0px 1px 3px 1px rgba(0, 0, 0, 0.15);\n",
              "      filter: drop-shadow(0px 1px 2px rgba(0, 0, 0, 0.3));\n",
              "      fill: #FFFFFF;\n",
              "    }\n",
              "  </style>\n",
              "\n",
              "    <script>\n",
              "      const buttonEl =\n",
              "        document.querySelector('#df-d3a62c38-31ba-4c88-be87-cf1b12e63202 button.colab-df-convert');\n",
              "      buttonEl.style.display =\n",
              "        google.colab.kernel.accessAllowed ? 'block' : 'none';\n",
              "\n",
              "      async function convertToInteractive(key) {\n",
              "        const element = document.querySelector('#df-d3a62c38-31ba-4c88-be87-cf1b12e63202');\n",
              "        const dataTable =\n",
              "          await google.colab.kernel.invokeFunction('convertToInteractive',\n",
              "                                                    [key], {});\n",
              "        if (!dataTable) return;\n",
              "\n",
              "        const docLinkHtml = 'Like what you see? Visit the ' +\n",
              "          '<a target=\"_blank\" href=https://colab.research.google.com/notebooks/data_table.ipynb>data table notebook</a>'\n",
              "          + ' to learn more about interactive tables.';\n",
              "        element.innerHTML = '';\n",
              "        dataTable['output_type'] = 'display_data';\n",
              "        await google.colab.output.renderOutput(dataTable, element);\n",
              "        const docLink = document.createElement('div');\n",
              "        docLink.innerHTML = docLinkHtml;\n",
              "        element.appendChild(docLink);\n",
              "      }\n",
              "    </script>\n",
              "  </div>\n",
              "\n",
              "\n",
              "<div id=\"df-9fd794f4-99ff-406a-9928-310564bd5760\">\n",
              "  <button class=\"colab-df-quickchart\" onclick=\"quickchart('df-9fd794f4-99ff-406a-9928-310564bd5760')\"\n",
              "            title=\"Suggest charts\"\n",
              "            style=\"display:none;\">\n",
              "\n",
              "<svg xmlns=\"http://www.w3.org/2000/svg\" height=\"24px\"viewBox=\"0 0 24 24\"\n",
              "     width=\"24px\">\n",
              "    <g>\n",
              "        <path d=\"M19 3H5c-1.1 0-2 .9-2 2v14c0 1.1.9 2 2 2h14c1.1 0 2-.9 2-2V5c0-1.1-.9-2-2-2zM9 17H7v-7h2v7zm4 0h-2V7h2v10zm4 0h-2v-4h2v4z\"/>\n",
              "    </g>\n",
              "</svg>\n",
              "  </button>\n",
              "\n",
              "<style>\n",
              "  .colab-df-quickchart {\n",
              "      --bg-color: #E8F0FE;\n",
              "      --fill-color: #1967D2;\n",
              "      --hover-bg-color: #E2EBFA;\n",
              "      --hover-fill-color: #174EA6;\n",
              "      --disabled-fill-color: #AAA;\n",
              "      --disabled-bg-color: #DDD;\n",
              "  }\n",
              "\n",
              "  [theme=dark] .colab-df-quickchart {\n",
              "      --bg-color: #3B4455;\n",
              "      --fill-color: #D2E3FC;\n",
              "      --hover-bg-color: #434B5C;\n",
              "      --hover-fill-color: #FFFFFF;\n",
              "      --disabled-bg-color: #3B4455;\n",
              "      --disabled-fill-color: #666;\n",
              "  }\n",
              "\n",
              "  .colab-df-quickchart {\n",
              "    background-color: var(--bg-color);\n",
              "    border: none;\n",
              "    border-radius: 50%;\n",
              "    cursor: pointer;\n",
              "    display: none;\n",
              "    fill: var(--fill-color);\n",
              "    height: 32px;\n",
              "    padding: 0;\n",
              "    width: 32px;\n",
              "  }\n",
              "\n",
              "  .colab-df-quickchart:hover {\n",
              "    background-color: var(--hover-bg-color);\n",
              "    box-shadow: 0 1px 2px rgba(60, 64, 67, 0.3), 0 1px 3px 1px rgba(60, 64, 67, 0.15);\n",
              "    fill: var(--button-hover-fill-color);\n",
              "  }\n",
              "\n",
              "  .colab-df-quickchart-complete:disabled,\n",
              "  .colab-df-quickchart-complete:disabled:hover {\n",
              "    background-color: var(--disabled-bg-color);\n",
              "    fill: var(--disabled-fill-color);\n",
              "    box-shadow: none;\n",
              "  }\n",
              "\n",
              "  .colab-df-spinner {\n",
              "    border: 2px solid var(--fill-color);\n",
              "    border-color: transparent;\n",
              "    border-bottom-color: var(--fill-color);\n",
              "    animation:\n",
              "      spin 1s steps(1) infinite;\n",
              "  }\n",
              "\n",
              "  @keyframes spin {\n",
              "    0% {\n",
              "      border-color: transparent;\n",
              "      border-bottom-color: var(--fill-color);\n",
              "      border-left-color: var(--fill-color);\n",
              "    }\n",
              "    20% {\n",
              "      border-color: transparent;\n",
              "      border-left-color: var(--fill-color);\n",
              "      border-top-color: var(--fill-color);\n",
              "    }\n",
              "    30% {\n",
              "      border-color: transparent;\n",
              "      border-left-color: var(--fill-color);\n",
              "      border-top-color: var(--fill-color);\n",
              "      border-right-color: var(--fill-color);\n",
              "    }\n",
              "    40% {\n",
              "      border-color: transparent;\n",
              "      border-right-color: var(--fill-color);\n",
              "      border-top-color: var(--fill-color);\n",
              "    }\n",
              "    60% {\n",
              "      border-color: transparent;\n",
              "      border-right-color: var(--fill-color);\n",
              "    }\n",
              "    80% {\n",
              "      border-color: transparent;\n",
              "      border-right-color: var(--fill-color);\n",
              "      border-bottom-color: var(--fill-color);\n",
              "    }\n",
              "    90% {\n",
              "      border-color: transparent;\n",
              "      border-bottom-color: var(--fill-color);\n",
              "    }\n",
              "  }\n",
              "</style>\n",
              "\n",
              "  <script>\n",
              "    async function quickchart(key) {\n",
              "      const quickchartButtonEl =\n",
              "        document.querySelector('#' + key + ' button');\n",
              "      quickchartButtonEl.disabled = true;  // To prevent multiple clicks.\n",
              "      quickchartButtonEl.classList.add('colab-df-spinner');\n",
              "      try {\n",
              "        const charts = await google.colab.kernel.invokeFunction(\n",
              "            'suggestCharts', [key], {});\n",
              "      } catch (error) {\n",
              "        console.error('Error during call to suggestCharts:', error);\n",
              "      }\n",
              "      quickchartButtonEl.classList.remove('colab-df-spinner');\n",
              "      quickchartButtonEl.classList.add('colab-df-quickchart-complete');\n",
              "    }\n",
              "    (() => {\n",
              "      let quickchartButtonEl =\n",
              "        document.querySelector('#df-9fd794f4-99ff-406a-9928-310564bd5760 button');\n",
              "      quickchartButtonEl.style.display =\n",
              "        google.colab.kernel.accessAllowed ? 'block' : 'none';\n",
              "    })();\n",
              "  </script>\n",
              "</div>\n",
              "    </div>\n",
              "  </div>\n"
            ]
          },
          "metadata": {},
          "execution_count": 9
        }
      ],
      "source": [
        "df_consumos = dataframe_relleno\n",
        "print('Updated Dataframe:')\n",
        "df_consumos.head()"
      ]
    },
    {
      "cell_type": "markdown",
      "metadata": {
        "id": "sHMRgzyc6fmt"
      },
      "source": [
        "Veamos de cuantas filas tenemos y cuantas hay de cada clase:"
      ]
    },
    {
      "cell_type": "code",
      "execution_count": null,
      "metadata": {
        "id": "lp9eQiQY6S7F",
        "colab": {
          "base_uri": "https://localhost:8080/"
        },
        "outputId": "bd0eae11-b8b6-4990-ab3f-3e1d38a0238b"
      },
      "outputs": [
        {
          "output_type": "stream",
          "name": "stdout",
          "text": [
            "(20014, 60)\n",
            "0    19885\n",
            "1      129\n",
            "Name: Class, dtype: int64\n"
          ]
        }
      ],
      "source": [
        "print(df_consumos.shape)\n",
        "print(pd.value_counts(df_consumos['Class'], sort = True))"
      ]
    },
    {
      "cell_type": "markdown",
      "metadata": {
        "id": "_HGSrJvJ6dTT"
      },
      "source": [
        "Vemos que son 20.014 filas y solamente 129 son la clase minoritaria con los casos de fraude. Representan el 0,645% de las muestras."
      ]
    },
    {
      "cell_type": "code",
      "execution_count": null,
      "metadata": {
        "id": "utlj5rlm6VYV",
        "colab": {
          "base_uri": "https://localhost:8080/",
          "height": 472
        },
        "outputId": "aa19b3f9-9c78-48d4-b2b3-13b81d56c883"
      },
      "outputs": [
        {
          "output_type": "display_data",
          "data": {
            "text/plain": [
              "<Figure size 640x480 with 1 Axes>"
            ],
            "image/png": "[encoded data removed]"
          },
          "metadata": {}
        }
      ],
      "source": [
        "count_classes = pd.value_counts(df_consumos['Class'], sort = True)\n",
        "count_classes.plot(kind = 'bar', rot=0)\n",
        "LABELS = [\"NORMAL\",\"FRAUDE\"]\n",
        "plt.xticks(range(2), LABELS)\n",
        "plt.title(\"Frequency by number of CUPs\")\n",
        "plt.xlabel(\"Class\")\n",
        "plt.ylabel(\"Number of CUPs\");"
      ]
    },
    {
      "cell_type": "markdown",
      "source": [
        "Creamos los sets de entrenamiento y test y la funció para mostrar los resultados"
      ],
      "metadata": {
        "id": "P_RspjGjXHt-"
      }
    },
    {
      "cell_type": "code",
      "source": [
        "#definimos nuestras etiquetas y features\n",
        "y = df_consumos['Class']\n",
        "X = df_consumos.drop('Class', axis=1)\n",
        "\n",
        "#dividimos en sets de entrenamiento y test\n",
        "X_train, X_test, y_train, y_test = train_test_split(X, y, train_size=0.7)\n",
        "\n",
        "#definimos funciona para mostrar los resultados\n",
        "def mostrar_resultados(y_test, pred_y):\n",
        "    conf_matrix = confusion_matrix(y_test, pred_y)\n",
        "    plt.figure(figsize=(12, 12))\n",
        "    sns.heatmap(conf_matrix, xticklabels=LABELS, yticklabels=LABELS, annot=True, fmt=\"d\");\n",
        "    plt.title(\"Confusion matrix\")\n",
        "    plt.ylabel('True class')\n",
        "    plt.xlabel('Predicted class')\n",
        "    plt.show()\n",
        "    print (classification_report(y_test, pred_y))"
      ],
      "metadata": {
        "id": "9VOCNEidXLyn"
      },
      "execution_count": null,
      "outputs": []
    },
    {
      "cell_type": "markdown",
      "metadata": {
        "id": "GKuLvkUjDMwB"
      },
      "source": [
        "Probando el Modelo “a secas” -sin estrategias-"
      ]
    },
    {
      "cell_type": "code",
      "execution_count": null,
      "metadata": {
        "id": "Jdzhtd-TDNFV",
        "colab": {
          "base_uri": "https://localhost:8080/",
          "height": 1000
        },
        "outputId": "a2404aed-5e45-470b-e233-76445a9ff69f"
      },
      "outputs": [
        {
          "output_type": "stream",
          "name": "stderr",
          "text": [
            "/usr/local/lib/python3.10/dist-packages/scipy/optimize/_linesearch.py:314: LineSearchWarning: The line search algorithm did not converge\n",
            "  warn('The line search algorithm did not converge', LineSearchWarning)\n",
            "/usr/local/lib/python3.10/dist-packages/sklearn/utils/optimize.py:203: UserWarning: Line Search failed\n",
            "  warnings.warn(\"Line Search failed\")\n"
          ]
        },
        {
          "output_type": "display_data",
          "data": {
            "text/plain": [
              "<Figure size 1200x1200 with 2 Axes>"
            ],
            "image/png": "[encoded data removed]"
          },
          "metadata": {}
        },
        {
          "output_type": "stream",
          "name": "stdout",
          "text": [
            "              precision    recall  f1-score   support\n",
            "\n",
            "           0       0.99      1.00      1.00      5968\n",
            "           1       0.00      0.00      0.00        37\n",
            "\n",
            "    accuracy                           0.99      6005\n",
            "   macro avg       0.50      0.50      0.50      6005\n",
            "weighted avg       0.99      0.99      0.99      6005\n",
            "\n"
          ]
        }
      ],
      "source": [
        "#creamos una función que crea el modelo que usaremos cada vez\n",
        "def run_model(X_train, X_test, y_train, y_test):\n",
        "    clf_base = LogisticRegression(C=1.0,penalty='l2',random_state=1,solver=\"newton-cg\")\n",
        "    clf_base.fit(X_train, y_train)\n",
        "    return clf_base\n",
        "\n",
        "#ejecutamos el modelo \"tal cual\"\n",
        "model = run_model(X_train, X_test, y_train, y_test)\n",
        "pred_y = model.predict(X_test)\n",
        "mostrar_resultados(y_test, pred_y)"
      ]
    },
    {
      "cell_type": "markdown",
      "metadata": {
        "id": "8KXa65SFDZLW"
      },
      "source": [
        "Estrategia: Penalización para compensar"
      ]
    },
    {
      "cell_type": "code",
      "execution_count": null,
      "metadata": {
        "id": "07LRrTW4DZh3",
        "colab": {
          "base_uri": "https://localhost:8080/",
          "height": 1000
        },
        "outputId": "0ee098bb-33d7-4d22-b91a-cb3a6b097240"
      },
      "outputs": [
        {
          "output_type": "stream",
          "name": "stderr",
          "text": [
            "/usr/local/lib/python3.10/dist-packages/scipy/optimize/_linesearch.py:314: LineSearchWarning: The line search algorithm did not converge\n",
            "  warn('The line search algorithm did not converge', LineSearchWarning)\n",
            "/usr/local/lib/python3.10/dist-packages/sklearn/utils/optimize.py:203: UserWarning: Line Search failed\n",
            "  warnings.warn(\"Line Search failed\")\n"
          ]
        },
        {
          "output_type": "display_data",
          "data": {
            "text/plain": [
              "<Figure size 1200x1200 with 2 Axes>"
            ],
            "image/png": "[encoded data removed]"
          },
          "metadata": {}
        },
        {
          "output_type": "stream",
          "name": "stdout",
          "text": [
            "              precision    recall  f1-score   support\n",
            "\n",
            "           0       1.00      0.92      0.96      5968\n",
            "           1       0.03      0.43      0.06        37\n",
            "\n",
            "    accuracy                           0.92      6005\n",
            "   macro avg       0.51      0.68      0.51      6005\n",
            "weighted avg       0.99      0.92      0.95      6005\n",
            "\n"
          ]
        }
      ],
      "source": [
        "def run_model_balanced(X_train, X_test, y_train, y_test):\n",
        "    clf = LogisticRegression(C=1.0,penalty='l2',random_state=1,solver=\"newton-cg\",class_weight=\"balanced\")\n",
        "    clf.fit(X_train, y_train)\n",
        "    return clf\n",
        "\n",
        "model = run_model_balanced(X_train, X_test, y_train, y_test)\n",
        "pred_y = model.predict(X_test)\n",
        "mostrar_resultados(y_test, pred_y)"
      ]
    },
    {
      "cell_type": "markdown",
      "metadata": {
        "id": "_F0D20pxDhn2"
      },
      "source": [
        "Estrategia: Subsampling en la clase mayoritaria"
      ]
    },
    {
      "cell_type": "code",
      "execution_count": null,
      "metadata": {
        "id": "qNwbyyp3Dh5a",
        "colab": {
          "base_uri": "https://localhost:8080/",
          "height": 1000
        },
        "outputId": "e9d9212d-5c48-47dc-aac9-8a86f8e11be1"
      },
      "outputs": [
        {
          "output_type": "stream",
          "name": "stdout",
          "text": [
            "Distribution before resampling Counter({0: 13917, 1: 92})\n",
            "Distribution after resampling Counter({0: 92, 1: 92})\n"
          ]
        },
        {
          "output_type": "stream",
          "name": "stderr",
          "text": [
            "/usr/local/lib/python3.10/dist-packages/scipy/optimize/_linesearch.py:314: LineSearchWarning: The line search algorithm did not converge\n",
            "  warn('The line search algorithm did not converge', LineSearchWarning)\n",
            "/usr/local/lib/python3.10/dist-packages/sklearn/utils/optimize.py:203: UserWarning: Line Search failed\n",
            "  warnings.warn(\"Line Search failed\")\n"
          ]
        },
        {
          "output_type": "display_data",
          "data": {
            "text/plain": [
              "<Figure size 1200x1200 with 2 Axes>"
            ],
            "image/png": "[encoded data removed]"
          },
          "metadata": {}
        },
        {
          "output_type": "stream",
          "name": "stdout",
          "text": [
            "              precision    recall  f1-score   support\n",
            "\n",
            "           0       0.99      0.42      0.59      5968\n",
            "           1       0.01      0.49      0.01        37\n",
            "\n",
            "    accuracy                           0.42      6005\n",
            "   macro avg       0.50      0.45      0.30      6005\n",
            "weighted avg       0.99      0.42      0.58      6005\n",
            "\n"
          ]
        }
      ],
      "source": [
        "us = NearMiss(n_neighbors=3, version=2)\n",
        "X_train_res, y_train_res = us.fit_resample(X_train, y_train)\n",
        "\n",
        "print (\"Distribution before resampling {}\".format(Counter(y_train)))\n",
        "print (\"Distribution after resampling {}\".format(Counter(y_train_res)))\n",
        "\n",
        "model = run_model(X_train_res, X_test, y_train_res, y_test)\n",
        "pred_y = model.predict(X_test)\n",
        "mostrar_resultados(y_test, pred_y)"
      ]
    },
    {
      "cell_type": "markdown",
      "metadata": {
        "id": "0umMgcanDlnh"
      },
      "source": [
        "Estrategia: Oversampling de la clase minoritaria"
      ]
    },
    {
      "cell_type": "code",
      "execution_count": null,
      "metadata": {
        "id": "NYYBBUkeDl4_",
        "colab": {
          "base_uri": "https://localhost:8080/",
          "height": 1000
        },
        "outputId": "ea966672-5431-4852-cd62-b425bc0cbdce"
      },
      "outputs": [
        {
          "output_type": "stream",
          "name": "stdout",
          "text": [
            "Distribution before resampling Counter({0: 13917, 1: 92})\n",
            "Distribution labels after resampling Counter({0: 13917, 1: 13917})\n"
          ]
        },
        {
          "output_type": "stream",
          "name": "stderr",
          "text": [
            "/usr/local/lib/python3.10/dist-packages/scipy/optimize/_linesearch.py:314: LineSearchWarning: The line search algorithm did not converge\n",
            "  warn('The line search algorithm did not converge', LineSearchWarning)\n",
            "/usr/local/lib/python3.10/dist-packages/sklearn/utils/optimize.py:203: UserWarning: Line Search failed\n",
            "  warnings.warn(\"Line Search failed\")\n"
          ]
        },
        {
          "output_type": "display_data",
          "data": {
            "text/plain": [
              "<Figure size 1200x1200 with 2 Axes>"
            ],
            "image/png": "[encoded data removed]"
          },
          "metadata": {}
        },
        {
          "output_type": "stream",
          "name": "stdout",
          "text": [
            "              precision    recall  f1-score   support\n",
            "\n",
            "           0       1.00      0.92      0.96      5968\n",
            "           1       0.03      0.41      0.06        37\n",
            "\n",
            "    accuracy                           0.91      6005\n",
            "   macro avg       0.51      0.66      0.51      6005\n",
            "weighted avg       0.99      0.91      0.95      6005\n",
            "\n"
          ]
        }
      ],
      "source": [
        "os =  RandomOverSampler(sampling_strategy='minority', random_state=None, shrinkage=None)\n",
        "X_train_res, y_train_res = os.fit_resample(X_train, y_train)\n",
        "\n",
        "print (\"Distribution before resampling {}\".format(Counter(y_train)))\n",
        "print (\"Distribution labels after resampling {}\".format(Counter(y_train_res)))\n",
        "\n",
        "model = run_model(X_train_res, X_test, y_train_res, y_test)\n",
        "pred_y = model.predict(X_test)\n",
        "mostrar_resultados(y_test, pred_y)"
      ]
    },
    {
      "cell_type": "markdown",
      "metadata": {
        "id": "aBfUlsC5EQoo"
      },
      "source": [
        "Estrategia: Combinamos resampling con Smote-Tomek"
      ]
    },
    {
      "cell_type": "code",
      "execution_count": null,
      "metadata": {
        "id": "vy7LQAANERon",
        "colab": {
          "base_uri": "https://localhost:8080/",
          "height": 1000
        },
        "outputId": "e452a99b-82c3-4ecc-9912-4326f7ce2dfc"
      },
      "outputs": [
        {
          "output_type": "stream",
          "name": "stdout",
          "text": [
            "Distribution before resampling Counter({0: 13917, 1: 92})\n",
            "Distribution after resampling Counter({0: 13917, 1: 13917})\n"
          ]
        },
        {
          "output_type": "stream",
          "name": "stderr",
          "text": [
            "/usr/local/lib/python3.10/dist-packages/scipy/optimize/_linesearch.py:314: LineSearchWarning: The line search algorithm did not converge\n",
            "  warn('The line search algorithm did not converge', LineSearchWarning)\n",
            "/usr/local/lib/python3.10/dist-packages/sklearn/utils/optimize.py:203: UserWarning: Line Search failed\n",
            "  warnings.warn(\"Line Search failed\")\n"
          ]
        },
        {
          "output_type": "display_data",
          "data": {
            "text/plain": [
              "<Figure size 1200x1200 with 2 Axes>"
            ],
            "image/png": "[encoded data removed]"
          },
          "metadata": {}
        },
        {
          "output_type": "stream",
          "name": "stdout",
          "text": [
            "              precision    recall  f1-score   support\n",
            "\n",
            "           0       1.00      0.93      0.96      5968\n",
            "           1       0.03      0.41      0.06        37\n",
            "\n",
            "    accuracy                           0.92      6005\n",
            "   macro avg       0.51      0.67      0.51      6005\n",
            "weighted avg       0.99      0.92      0.95      6005\n",
            "\n"
          ]
        }
      ],
      "source": [
        "from imblearn.under_sampling import TomekLinks\n",
        "\n",
        "os_us = SMOTETomek(sampling_strategy='minority', random_state=None, smote=None, tomek=TomekLinks(sampling_strategy='majority'))\n",
        "X_train_res, y_train_res = os_us.fit_resample(X_train, y_train)\n",
        "\n",
        "print (\"Distribution before resampling {}\".format(Counter(y_train)))\n",
        "print (\"Distribution after resampling {}\".format(Counter(y_train_res)))\n",
        "\n",
        "model = run_model(X_train_res, X_test, y_train_res, y_test)\n",
        "pred_y = model.predict(X_test)\n",
        "mostrar_resultados(y_test, pred_y)"
      ]
    },
    {
      "cell_type": "markdown",
      "metadata": {
        "id": "ZOIuA8NoEmwt"
      },
      "source": [
        "Estrategia: Ensamble de Modelos con Balanceo"
      ]
    },
    {
      "cell_type": "code",
      "execution_count": null,
      "metadata": {
        "id": "zHCUPd7IEnTC",
        "colab": {
          "base_uri": "https://localhost:8080/",
          "height": 1000
        },
        "outputId": "b2b8d1c9-d294-46ec-9739-d36ccd16a133"
      },
      "outputs": [
        {
          "output_type": "stream",
          "name": "stderr",
          "text": [
            "/usr/local/lib/python3.10/dist-packages/imblearn/ensemble/_bagging.py:353: FutureWarning: `base_estimator` was renamed to `estimator` in version 0.10 and will be removed in 0.12.\n",
            "  warnings.warn(\n"
          ]
        },
        {
          "output_type": "display_data",
          "data": {
            "text/plain": [
              "<Figure size 1200x1200 with 2 Axes>"
            ],
            "image/png": "[encoded data removed]"
          },
          "metadata": {}
        },
        {
          "output_type": "stream",
          "name": "stdout",
          "text": [
            "              precision    recall  f1-score   support\n",
            "\n",
            "           0       1.00      0.92      0.95      5968\n",
            "           1       0.04      0.54      0.07        37\n",
            "\n",
            "    accuracy                           0.91      6005\n",
            "   macro avg       0.52      0.73      0.51      6005\n",
            "weighted avg       0.99      0.91      0.95      6005\n",
            "\n"
          ]
        }
      ],
      "source": [
        "bbc = BalancedBaggingClassifier(base_estimator=DecisionTreeClassifier(),\n",
        "                                sampling_strategy='auto',\n",
        "                                replacement=False,\n",
        "                                random_state=0)\n",
        "\n",
        "#Train the classifier.\n",
        "bbc.fit(X_train, y_train)\n",
        "pred_y = bbc.predict(X_test)\n",
        "mostrar_resultados(y_test, pred_y)"
      ]
    }
  ],
  "metadata": {
    "colab": {
      "provenance": [],
      "authorship_tag": "ABX9TyOKdPzITFJLbmLw86PpE28x",
      "include_colab_link": true
    },
    "kernelspec": {
      "display_name": "Python 3",
      "name": "python3"
    },
    "language_info": {
      "name": "python"
    }
  },
  "nbformat": 4,
  "nbformat_minor": 0
}